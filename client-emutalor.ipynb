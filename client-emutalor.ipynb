{
 "cells": [
  {
   "cell_type": "markdown",
   "metadata": {},
   "source": [
    "# Activate Django"
   ]
  },
  {
   "cell_type": "code",
   "execution_count": 12,
   "metadata": {},
   "outputs": [],
   "source": [
    "import os; os.environ.setdefault('DJANGO_SETTINGS_MODULE', 'dplback.settings')\n",
    "import django; django.setup()"
   ]
  },
  {
   "cell_type": "markdown",
   "metadata": {},
   "source": [
    "# Imports"
   ]
  },
  {
   "cell_type": "code",
   "execution_count": 13,
   "metadata": {},
   "outputs": [],
   "source": [
    "from cryptography.hazmat.primitives.asymmetric import ed25519\n",
    "from cryptography.hazmat.primitives.asymmetric import rsa\n",
    "from cryptography.hazmat.primitives import serialization\n",
    "import jwt\n",
    "from cryptography.fernet import Fernet\n",
    "from dplapp.models import AppSettingsModel, TokensModel\n",
    "from django.utils import timezone\n",
    "from datetime import timezone as builtin_tz\n",
    "from argon2 import PasswordHasher\n",
    "from django.conf import settings\n",
    "from dplapp.serializers import TicketSerializer, MainRequestSerializer\n",
    "from dplapp.utils import *\n",
    "from datetime import datetime, timedelta\n",
    "from datetime import timezone as builtin_tz\n",
    "from django.utils import timezone\n",
    "import uuid\n",
    "from django.core.exceptions import ValidationError\n",
    "import re\n",
    "import hashlib\n",
    "from time import sleep\n",
    "from typing import Any\n",
    "import requests\n",
    "import json\n",
    "import pickle"
   ]
  },
  {
   "cell_type": "markdown",
   "metadata": {},
   "source": [
    "# Token client class definition (mimics mobile app)"
   ]
  },
  {
   "cell_type": "code",
   "execution_count": null,
   "metadata": {},
   "outputs": [],
   "source": [
    "DEV_URL = \"http://127.0.0.1:8000\""
   ]
  },
  {
   "cell_type": "code",
   "execution_count": null,
   "metadata": {},
   "outputs": [],
   "source": [
    "class TokenClient:\n",
    "\n",
    "    app_version = \"v0.0.5\"\n",
    "    api_url = \"/mainrequest/\"\n",
    "    base_url = DEV_URL\n",
    "\n",
    "\n",
    "    def __init__(self, pin = \"1234567890\", saved_token = None):\n",
    "\n",
    "        if not saved_token:\n",
    "            self.private_key, self.public_key = self._generate_keypair()\n",
    "            self.private_bytes, self.public_bytes = self._get_key_bytes()\n",
    "            self.ticket = \"\"\n",
    "        else:\n",
    "            decoded_data = self._restore_saved_token(saved_token)\n",
    "            if decoded_data:\n",
    "                self.private_key, self.public_key, self.ticket = decoded_data\n",
    "\n",
    "        self.fingerprint = self._get_fingerprint()\n",
    "        self.pin = self._get_pin(pin)\n",
    "\n",
    "    def _get_url(self):\n",
    "        return self.base_url + self.api_url\n",
    "\n",
    "    def _generate_keypair(self):\n",
    "        private_key =  rsa.generate_private_key(key_size=2048, public_exponent=65537)\n",
    "        public_key = private_key.public_key()\n",
    "        return (private_key, public_key)\n",
    "    \n",
    "    def _get_key_bytes(self):\n",
    "        private_bytes = self.private_key.private_bytes(\n",
    "                encoding=serialization.Encoding.PEM,\n",
    "                format=serialization.PrivateFormat.PKCS8,\n",
    "                encryption_algorithm=serialization.NoEncryption(),\n",
    "            ).decode()\n",
    "        private_bytes = re.sub(r'(\\r\\n)|\\n', '', private_bytes)\n",
    "\n",
    "        public_bytes = self.public_key.public_bytes(\n",
    "                    encoding=serialization.Encoding.PEM,\n",
    "                    format=serialization.PublicFormat.SubjectPublicKeyInfo,\n",
    "                ).decode()\n",
    "        public_bytes = re.sub(r'(\\r\\n)|\\n', '', public_bytes)\n",
    "\n",
    "        return (private_bytes, public_bytes)\n",
    "    \n",
    "    def _get_fingerprint(self):\n",
    "        return ' '.join(f'{byte:02X}' for byte in hashlib.sha256(self.public_bytes.encode('utf-8')).digest()[:6])\n",
    "    \n",
    "    def _get_pin(self, pin):\n",
    "        return hashlib.sha256(f\"{pin}{self.fingerprint}\".encode('utf-8')).hexdigest()\n",
    "    \n",
    "    def _get_jwt_dict(self):\n",
    "        jwt_dict = {\n",
    "            \"version\": self.app_version,\n",
    "            \"request_time\": timezone.now().isoformat(),\n",
    "            \"public_key\": self.public_bytes,\n",
    "            \"pin\": self.pin,\n",
    "            \"ticket\": self.ticket\n",
    "        }\n",
    "        return jwt_dict\n",
    "    \n",
    "    def _encode_jwt_token(self, jwt_dict : dict[str, Any]):\n",
    "        return jwt.encode(jwt_dict, self.private_key, algorithm=\"RS256\")\n",
    "    \n",
    "    def _get_request_data(self, jwt_token):\n",
    "        return {'token': jwt_token}\n",
    "    \n",
    "    def _get_ticket_from_response(self, response):\n",
    "        return json.loads(response)['ticket']\n",
    "\n",
    "    def send_mainrequest(self):\n",
    "        jwt_dict = self._get_jwt_dict()\n",
    "        jwt_token = self._encode_jwt_token(jwt_dict)\n",
    "        request_data = self._get_request_data(jwt_token)\n",
    "\n",
    "        response = requests.post(self._get_url(), json=request_data)\n",
    "\n",
    "        if response.status_code == 200:\n",
    "            self.ticket = self._get_ticket_from_response(response.content)\n",
    "\n",
    "        return (response.status_code, response.content)\n",
    "\n",
    "    def save_token(self):\n",
    "        pickled_data = pickle.dumps((self.private_key, self.public_key, self.ticket))\n",
    "        base64_bytes = base64.b64encode(pickled_data)\n",
    "        return base64_bytes.decode()\n",
    "\n",
    "\n",
    "    def _restore_saved_token(self, encoded_string : str):\n",
    "        base64_bytes = encoded_string.encode()\n",
    "        pickled_data = base64.b64decode(base64_bytes)\n",
    "        unpickled_data = pickle.loads(pickled_data)\n",
    "        if (type(unpickled_data) != type): return None\n",
    "        if len(unpickled_data) != 3: return None\n",
    "        return unpickled_data\n",
    "    \n",
    "    def __str__(self):\n",
    "        return self.fingerprint\n",
    "    \n",
    "    def __repr__(self):\n",
    "        return f\"Token({self.fingerprint})\""
   ]
  },
  {
   "cell_type": "markdown",
   "metadata": {},
   "source": [
    "# Code playground"
   ]
  },
  {
   "cell_type": "code",
   "execution_count": 10,
   "metadata": {},
   "outputs": [],
   "source": [
    "class MassTokenCreator:\n",
    "\n",
    "    tokens_dict : dict[TokenClient] = dict()\n",
    "\n",
    "    def __init__(self, amount):\n",
    "        for _ in range(amount):\n",
    "            token = TokenClient()\n",
    "            token.send_mainrequest()\n",
    "            self.tokens_dict[token.fingerprint] = token\n",
    "        print(list(self.tokens_dict.keys()))\n",
    "        \n",
    "    @classmethod\n",
    "    def send_requests(self, tokens: list[str] | None = None):\n",
    "        if tokens:\n",
    "            for fingerprint in tokens:\n",
    "                print(fingerprint, self.tokens_dict[fingerprint].send_mainrequest())\n",
    "        else:\n",
    "            for token in self.tokens_dict.values():\n",
    "                print(token.fingerprint, token.send_mainrequest())\n",
    "\n",
    "    @classmethod\n",
    "    def clear_tokens(self, tokens: list[str] | None = None):\n",
    "        if tokens:\n",
    "            for token in tokens:\n",
    "                self.tokens_dict.pop(token)\n",
    "        else:\n",
    "            self.tokens_dict.clear()\n"
   ]
  },
  {
   "cell_type": "code",
   "execution_count": 11,
   "metadata": {},
   "outputs": [
    {
     "name": "stderr",
     "output_type": "stream",
     "text": [
      "DEBUG 2025-04-01 17:35:13,810 connectionpool 19228 25908 Starting new HTTP connection (1): 127.0.0.1:8000\n"
     ]
    },
    {
     "ename": "ConnectionError",
     "evalue": "HTTPConnectionPool(host='127.0.0.1', port=8000): Max retries exceeded with url: /mainrequest/ (Caused by NewConnectionError('<urllib3.connection.HTTPConnection object at 0x000001BA91C67DD0>: Failed to establish a new connection: [WinError 10061] Подключение не установлено, т.к. конечный компьютер отверг запрос на подключение'))",
     "output_type": "error",
     "traceback": [
      "\u001b[1;31m---------------------------------------------------------------------------\u001b[0m",
      "\u001b[1;31mConnectionRefusedError\u001b[0m                    Traceback (most recent call last)",
      "File \u001b[1;32md:\\ВУЗ\\4 курс\\2 семестр\\диплом\\бэк\\diplomabackend\\.venv\\Lib\\site-packages\\urllib3\\connection.py:198\u001b[0m, in \u001b[0;36mHTTPConnection._new_conn\u001b[1;34m(self)\u001b[0m\n\u001b[0;32m    197\u001b[0m \u001b[38;5;28;01mtry\u001b[39;00m:\n\u001b[1;32m--> 198\u001b[0m     sock \u001b[38;5;241m=\u001b[39m \u001b[43mconnection\u001b[49m\u001b[38;5;241;43m.\u001b[39;49m\u001b[43mcreate_connection\u001b[49m\u001b[43m(\u001b[49m\n\u001b[0;32m    199\u001b[0m \u001b[43m        \u001b[49m\u001b[43m(\u001b[49m\u001b[38;5;28;43mself\u001b[39;49m\u001b[38;5;241;43m.\u001b[39;49m\u001b[43m_dns_host\u001b[49m\u001b[43m,\u001b[49m\u001b[43m \u001b[49m\u001b[38;5;28;43mself\u001b[39;49m\u001b[38;5;241;43m.\u001b[39;49m\u001b[43mport\u001b[49m\u001b[43m)\u001b[49m\u001b[43m,\u001b[49m\n\u001b[0;32m    200\u001b[0m \u001b[43m        \u001b[49m\u001b[38;5;28;43mself\u001b[39;49m\u001b[38;5;241;43m.\u001b[39;49m\u001b[43mtimeout\u001b[49m\u001b[43m,\u001b[49m\n\u001b[0;32m    201\u001b[0m \u001b[43m        \u001b[49m\u001b[43msource_address\u001b[49m\u001b[38;5;241;43m=\u001b[39;49m\u001b[38;5;28;43mself\u001b[39;49m\u001b[38;5;241;43m.\u001b[39;49m\u001b[43msource_address\u001b[49m\u001b[43m,\u001b[49m\n\u001b[0;32m    202\u001b[0m \u001b[43m        \u001b[49m\u001b[43msocket_options\u001b[49m\u001b[38;5;241;43m=\u001b[39;49m\u001b[38;5;28;43mself\u001b[39;49m\u001b[38;5;241;43m.\u001b[39;49m\u001b[43msocket_options\u001b[49m\u001b[43m,\u001b[49m\n\u001b[0;32m    203\u001b[0m \u001b[43m    \u001b[49m\u001b[43m)\u001b[49m\n\u001b[0;32m    204\u001b[0m \u001b[38;5;28;01mexcept\u001b[39;00m socket\u001b[38;5;241m.\u001b[39mgaierror \u001b[38;5;28;01mas\u001b[39;00m e:\n",
      "File \u001b[1;32md:\\ВУЗ\\4 курс\\2 семестр\\диплом\\бэк\\diplomabackend\\.venv\\Lib\\site-packages\\urllib3\\util\\connection.py:85\u001b[0m, in \u001b[0;36mcreate_connection\u001b[1;34m(address, timeout, source_address, socket_options)\u001b[0m\n\u001b[0;32m     84\u001b[0m \u001b[38;5;28;01mtry\u001b[39;00m:\n\u001b[1;32m---> 85\u001b[0m     \u001b[38;5;28;01mraise\u001b[39;00m err\n\u001b[0;32m     86\u001b[0m \u001b[38;5;28;01mfinally\u001b[39;00m:\n\u001b[0;32m     87\u001b[0m     \u001b[38;5;66;03m# Break explicitly a reference cycle\u001b[39;00m\n",
      "File \u001b[1;32md:\\ВУЗ\\4 курс\\2 семестр\\диплом\\бэк\\diplomabackend\\.venv\\Lib\\site-packages\\urllib3\\util\\connection.py:73\u001b[0m, in \u001b[0;36mcreate_connection\u001b[1;34m(address, timeout, source_address, socket_options)\u001b[0m\n\u001b[0;32m     72\u001b[0m     sock\u001b[38;5;241m.\u001b[39mbind(source_address)\n\u001b[1;32m---> 73\u001b[0m \u001b[43msock\u001b[49m\u001b[38;5;241;43m.\u001b[39;49m\u001b[43mconnect\u001b[49m\u001b[43m(\u001b[49m\u001b[43msa\u001b[49m\u001b[43m)\u001b[49m\n\u001b[0;32m     74\u001b[0m \u001b[38;5;66;03m# Break explicitly a reference cycle\u001b[39;00m\n",
      "\u001b[1;31mConnectionRefusedError\u001b[0m: [WinError 10061] Подключение не установлено, т.к. конечный компьютер отверг запрос на подключение",
      "\nThe above exception was the direct cause of the following exception:\n",
      "\u001b[1;31mNewConnectionError\u001b[0m                        Traceback (most recent call last)",
      "File \u001b[1;32md:\\ВУЗ\\4 курс\\2 семестр\\диплом\\бэк\\diplomabackend\\.venv\\Lib\\site-packages\\urllib3\\connectionpool.py:787\u001b[0m, in \u001b[0;36mHTTPConnectionPool.urlopen\u001b[1;34m(self, method, url, body, headers, retries, redirect, assert_same_host, timeout, pool_timeout, release_conn, chunked, body_pos, preload_content, decode_content, **response_kw)\u001b[0m\n\u001b[0;32m    786\u001b[0m \u001b[38;5;66;03m# Make the request on the HTTPConnection object\u001b[39;00m\n\u001b[1;32m--> 787\u001b[0m response \u001b[38;5;241m=\u001b[39m \u001b[38;5;28;43mself\u001b[39;49m\u001b[38;5;241;43m.\u001b[39;49m\u001b[43m_make_request\u001b[49m\u001b[43m(\u001b[49m\n\u001b[0;32m    788\u001b[0m \u001b[43m    \u001b[49m\u001b[43mconn\u001b[49m\u001b[43m,\u001b[49m\n\u001b[0;32m    789\u001b[0m \u001b[43m    \u001b[49m\u001b[43mmethod\u001b[49m\u001b[43m,\u001b[49m\n\u001b[0;32m    790\u001b[0m \u001b[43m    \u001b[49m\u001b[43murl\u001b[49m\u001b[43m,\u001b[49m\n\u001b[0;32m    791\u001b[0m \u001b[43m    \u001b[49m\u001b[43mtimeout\u001b[49m\u001b[38;5;241;43m=\u001b[39;49m\u001b[43mtimeout_obj\u001b[49m\u001b[43m,\u001b[49m\n\u001b[0;32m    792\u001b[0m \u001b[43m    \u001b[49m\u001b[43mbody\u001b[49m\u001b[38;5;241;43m=\u001b[39;49m\u001b[43mbody\u001b[49m\u001b[43m,\u001b[49m\n\u001b[0;32m    793\u001b[0m \u001b[43m    \u001b[49m\u001b[43mheaders\u001b[49m\u001b[38;5;241;43m=\u001b[39;49m\u001b[43mheaders\u001b[49m\u001b[43m,\u001b[49m\n\u001b[0;32m    794\u001b[0m \u001b[43m    \u001b[49m\u001b[43mchunked\u001b[49m\u001b[38;5;241;43m=\u001b[39;49m\u001b[43mchunked\u001b[49m\u001b[43m,\u001b[49m\n\u001b[0;32m    795\u001b[0m \u001b[43m    \u001b[49m\u001b[43mretries\u001b[49m\u001b[38;5;241;43m=\u001b[39;49m\u001b[43mretries\u001b[49m\u001b[43m,\u001b[49m\n\u001b[0;32m    796\u001b[0m \u001b[43m    \u001b[49m\u001b[43mresponse_conn\u001b[49m\u001b[38;5;241;43m=\u001b[39;49m\u001b[43mresponse_conn\u001b[49m\u001b[43m,\u001b[49m\n\u001b[0;32m    797\u001b[0m \u001b[43m    \u001b[49m\u001b[43mpreload_content\u001b[49m\u001b[38;5;241;43m=\u001b[39;49m\u001b[43mpreload_content\u001b[49m\u001b[43m,\u001b[49m\n\u001b[0;32m    798\u001b[0m \u001b[43m    \u001b[49m\u001b[43mdecode_content\u001b[49m\u001b[38;5;241;43m=\u001b[39;49m\u001b[43mdecode_content\u001b[49m\u001b[43m,\u001b[49m\n\u001b[0;32m    799\u001b[0m \u001b[43m    \u001b[49m\u001b[38;5;241;43m*\u001b[39;49m\u001b[38;5;241;43m*\u001b[39;49m\u001b[43mresponse_kw\u001b[49m\u001b[43m,\u001b[49m\n\u001b[0;32m    800\u001b[0m \u001b[43m\u001b[49m\u001b[43m)\u001b[49m\n\u001b[0;32m    802\u001b[0m \u001b[38;5;66;03m# Everything went great!\u001b[39;00m\n",
      "File \u001b[1;32md:\\ВУЗ\\4 курс\\2 семестр\\диплом\\бэк\\diplomabackend\\.venv\\Lib\\site-packages\\urllib3\\connectionpool.py:493\u001b[0m, in \u001b[0;36mHTTPConnectionPool._make_request\u001b[1;34m(self, conn, method, url, body, headers, retries, timeout, chunked, response_conn, preload_content, decode_content, enforce_content_length)\u001b[0m\n\u001b[0;32m    492\u001b[0m \u001b[38;5;28;01mtry\u001b[39;00m:\n\u001b[1;32m--> 493\u001b[0m     \u001b[43mconn\u001b[49m\u001b[38;5;241;43m.\u001b[39;49m\u001b[43mrequest\u001b[49m\u001b[43m(\u001b[49m\n\u001b[0;32m    494\u001b[0m \u001b[43m        \u001b[49m\u001b[43mmethod\u001b[49m\u001b[43m,\u001b[49m\n\u001b[0;32m    495\u001b[0m \u001b[43m        \u001b[49m\u001b[43murl\u001b[49m\u001b[43m,\u001b[49m\n\u001b[0;32m    496\u001b[0m \u001b[43m        \u001b[49m\u001b[43mbody\u001b[49m\u001b[38;5;241;43m=\u001b[39;49m\u001b[43mbody\u001b[49m\u001b[43m,\u001b[49m\n\u001b[0;32m    497\u001b[0m \u001b[43m        \u001b[49m\u001b[43mheaders\u001b[49m\u001b[38;5;241;43m=\u001b[39;49m\u001b[43mheaders\u001b[49m\u001b[43m,\u001b[49m\n\u001b[0;32m    498\u001b[0m \u001b[43m        \u001b[49m\u001b[43mchunked\u001b[49m\u001b[38;5;241;43m=\u001b[39;49m\u001b[43mchunked\u001b[49m\u001b[43m,\u001b[49m\n\u001b[0;32m    499\u001b[0m \u001b[43m        \u001b[49m\u001b[43mpreload_content\u001b[49m\u001b[38;5;241;43m=\u001b[39;49m\u001b[43mpreload_content\u001b[49m\u001b[43m,\u001b[49m\n\u001b[0;32m    500\u001b[0m \u001b[43m        \u001b[49m\u001b[43mdecode_content\u001b[49m\u001b[38;5;241;43m=\u001b[39;49m\u001b[43mdecode_content\u001b[49m\u001b[43m,\u001b[49m\n\u001b[0;32m    501\u001b[0m \u001b[43m        \u001b[49m\u001b[43menforce_content_length\u001b[49m\u001b[38;5;241;43m=\u001b[39;49m\u001b[43menforce_content_length\u001b[49m\u001b[43m,\u001b[49m\n\u001b[0;32m    502\u001b[0m \u001b[43m    \u001b[49m\u001b[43m)\u001b[49m\n\u001b[0;32m    504\u001b[0m \u001b[38;5;66;03m# We are swallowing BrokenPipeError (errno.EPIPE) since the server is\u001b[39;00m\n\u001b[0;32m    505\u001b[0m \u001b[38;5;66;03m# legitimately able to close the connection after sending a valid response.\u001b[39;00m\n\u001b[0;32m    506\u001b[0m \u001b[38;5;66;03m# With this behaviour, the received response is still readable.\u001b[39;00m\n",
      "File \u001b[1;32md:\\ВУЗ\\4 курс\\2 семестр\\диплом\\бэк\\diplomabackend\\.venv\\Lib\\site-packages\\urllib3\\connection.py:445\u001b[0m, in \u001b[0;36mHTTPConnection.request\u001b[1;34m(self, method, url, body, headers, chunked, preload_content, decode_content, enforce_content_length)\u001b[0m\n\u001b[0;32m    444\u001b[0m     \u001b[38;5;28mself\u001b[39m\u001b[38;5;241m.\u001b[39mputheader(header, value)\n\u001b[1;32m--> 445\u001b[0m \u001b[38;5;28;43mself\u001b[39;49m\u001b[38;5;241;43m.\u001b[39;49m\u001b[43mendheaders\u001b[49m\u001b[43m(\u001b[49m\u001b[43m)\u001b[49m\n\u001b[0;32m    447\u001b[0m \u001b[38;5;66;03m# If we're given a body we start sending that in chunks.\u001b[39;00m\n",
      "File \u001b[1;32mC:\\Program Files\\Python312\\Lib\\http\\client.py:1322\u001b[0m, in \u001b[0;36mHTTPConnection.endheaders\u001b[1;34m(self, message_body, encode_chunked)\u001b[0m\n\u001b[0;32m   1321\u001b[0m     \u001b[38;5;28;01mraise\u001b[39;00m CannotSendHeader()\n\u001b[1;32m-> 1322\u001b[0m \u001b[38;5;28;43mself\u001b[39;49m\u001b[38;5;241;43m.\u001b[39;49m\u001b[43m_send_output\u001b[49m\u001b[43m(\u001b[49m\u001b[43mmessage_body\u001b[49m\u001b[43m,\u001b[49m\u001b[43m \u001b[49m\u001b[43mencode_chunked\u001b[49m\u001b[38;5;241;43m=\u001b[39;49m\u001b[43mencode_chunked\u001b[49m\u001b[43m)\u001b[49m\n",
      "File \u001b[1;32mC:\\Program Files\\Python312\\Lib\\http\\client.py:1081\u001b[0m, in \u001b[0;36mHTTPConnection._send_output\u001b[1;34m(self, message_body, encode_chunked)\u001b[0m\n\u001b[0;32m   1080\u001b[0m \u001b[38;5;28;01mdel\u001b[39;00m \u001b[38;5;28mself\u001b[39m\u001b[38;5;241m.\u001b[39m_buffer[:]\n\u001b[1;32m-> 1081\u001b[0m \u001b[38;5;28;43mself\u001b[39;49m\u001b[38;5;241;43m.\u001b[39;49m\u001b[43msend\u001b[49m\u001b[43m(\u001b[49m\u001b[43mmsg\u001b[49m\u001b[43m)\u001b[49m\n\u001b[0;32m   1083\u001b[0m \u001b[38;5;28;01mif\u001b[39;00m message_body \u001b[38;5;129;01mis\u001b[39;00m \u001b[38;5;129;01mnot\u001b[39;00m \u001b[38;5;28;01mNone\u001b[39;00m:\n\u001b[0;32m   1084\u001b[0m \n\u001b[0;32m   1085\u001b[0m     \u001b[38;5;66;03m# create a consistent interface to message_body\u001b[39;00m\n",
      "File \u001b[1;32mC:\\Program Files\\Python312\\Lib\\http\\client.py:1025\u001b[0m, in \u001b[0;36mHTTPConnection.send\u001b[1;34m(self, data)\u001b[0m\n\u001b[0;32m   1024\u001b[0m \u001b[38;5;28;01mif\u001b[39;00m \u001b[38;5;28mself\u001b[39m\u001b[38;5;241m.\u001b[39mauto_open:\n\u001b[1;32m-> 1025\u001b[0m     \u001b[38;5;28;43mself\u001b[39;49m\u001b[38;5;241;43m.\u001b[39;49m\u001b[43mconnect\u001b[49m\u001b[43m(\u001b[49m\u001b[43m)\u001b[49m\n\u001b[0;32m   1026\u001b[0m \u001b[38;5;28;01melse\u001b[39;00m:\n",
      "File \u001b[1;32md:\\ВУЗ\\4 курс\\2 семестр\\диплом\\бэк\\diplomabackend\\.venv\\Lib\\site-packages\\urllib3\\connection.py:276\u001b[0m, in \u001b[0;36mHTTPConnection.connect\u001b[1;34m(self)\u001b[0m\n\u001b[0;32m    275\u001b[0m \u001b[38;5;28;01mdef\u001b[39;00m\u001b[38;5;250m \u001b[39m\u001b[38;5;21mconnect\u001b[39m(\u001b[38;5;28mself\u001b[39m) \u001b[38;5;241m-\u001b[39m\u001b[38;5;241m>\u001b[39m \u001b[38;5;28;01mNone\u001b[39;00m:\n\u001b[1;32m--> 276\u001b[0m     \u001b[38;5;28mself\u001b[39m\u001b[38;5;241m.\u001b[39msock \u001b[38;5;241m=\u001b[39m \u001b[38;5;28;43mself\u001b[39;49m\u001b[38;5;241;43m.\u001b[39;49m\u001b[43m_new_conn\u001b[49m\u001b[43m(\u001b[49m\u001b[43m)\u001b[49m\n\u001b[0;32m    277\u001b[0m     \u001b[38;5;28;01mif\u001b[39;00m \u001b[38;5;28mself\u001b[39m\u001b[38;5;241m.\u001b[39m_tunnel_host:\n\u001b[0;32m    278\u001b[0m         \u001b[38;5;66;03m# If we're tunneling it means we're connected to our proxy.\u001b[39;00m\n",
      "File \u001b[1;32md:\\ВУЗ\\4 курс\\2 семестр\\диплом\\бэк\\diplomabackend\\.venv\\Lib\\site-packages\\urllib3\\connection.py:213\u001b[0m, in \u001b[0;36mHTTPConnection._new_conn\u001b[1;34m(self)\u001b[0m\n\u001b[0;32m    212\u001b[0m \u001b[38;5;28;01mexcept\u001b[39;00m \u001b[38;5;167;01mOSError\u001b[39;00m \u001b[38;5;28;01mas\u001b[39;00m e:\n\u001b[1;32m--> 213\u001b[0m     \u001b[38;5;28;01mraise\u001b[39;00m NewConnectionError(\n\u001b[0;32m    214\u001b[0m         \u001b[38;5;28mself\u001b[39m, \u001b[38;5;124mf\u001b[39m\u001b[38;5;124m\"\u001b[39m\u001b[38;5;124mFailed to establish a new connection: \u001b[39m\u001b[38;5;132;01m{\u001b[39;00me\u001b[38;5;132;01m}\u001b[39;00m\u001b[38;5;124m\"\u001b[39m\n\u001b[0;32m    215\u001b[0m     ) \u001b[38;5;28;01mfrom\u001b[39;00m\u001b[38;5;250m \u001b[39m\u001b[38;5;21;01me\u001b[39;00m\n\u001b[0;32m    217\u001b[0m sys\u001b[38;5;241m.\u001b[39maudit(\u001b[38;5;124m\"\u001b[39m\u001b[38;5;124mhttp.client.connect\u001b[39m\u001b[38;5;124m\"\u001b[39m, \u001b[38;5;28mself\u001b[39m, \u001b[38;5;28mself\u001b[39m\u001b[38;5;241m.\u001b[39mhost, \u001b[38;5;28mself\u001b[39m\u001b[38;5;241m.\u001b[39mport)\n",
      "\u001b[1;31mNewConnectionError\u001b[0m: <urllib3.connection.HTTPConnection object at 0x000001BA91C67DD0>: Failed to establish a new connection: [WinError 10061] Подключение не установлено, т.к. конечный компьютер отверг запрос на подключение",
      "\nThe above exception was the direct cause of the following exception:\n",
      "\u001b[1;31mMaxRetryError\u001b[0m                             Traceback (most recent call last)",
      "File \u001b[1;32md:\\ВУЗ\\4 курс\\2 семестр\\диплом\\бэк\\diplomabackend\\.venv\\Lib\\site-packages\\requests\\adapters.py:667\u001b[0m, in \u001b[0;36mHTTPAdapter.send\u001b[1;34m(self, request, stream, timeout, verify, cert, proxies)\u001b[0m\n\u001b[0;32m    666\u001b[0m \u001b[38;5;28;01mtry\u001b[39;00m:\n\u001b[1;32m--> 667\u001b[0m     resp \u001b[38;5;241m=\u001b[39m \u001b[43mconn\u001b[49m\u001b[38;5;241;43m.\u001b[39;49m\u001b[43murlopen\u001b[49m\u001b[43m(\u001b[49m\n\u001b[0;32m    668\u001b[0m \u001b[43m        \u001b[49m\u001b[43mmethod\u001b[49m\u001b[38;5;241;43m=\u001b[39;49m\u001b[43mrequest\u001b[49m\u001b[38;5;241;43m.\u001b[39;49m\u001b[43mmethod\u001b[49m\u001b[43m,\u001b[49m\n\u001b[0;32m    669\u001b[0m \u001b[43m        \u001b[49m\u001b[43murl\u001b[49m\u001b[38;5;241;43m=\u001b[39;49m\u001b[43murl\u001b[49m\u001b[43m,\u001b[49m\n\u001b[0;32m    670\u001b[0m \u001b[43m        \u001b[49m\u001b[43mbody\u001b[49m\u001b[38;5;241;43m=\u001b[39;49m\u001b[43mrequest\u001b[49m\u001b[38;5;241;43m.\u001b[39;49m\u001b[43mbody\u001b[49m\u001b[43m,\u001b[49m\n\u001b[0;32m    671\u001b[0m \u001b[43m        \u001b[49m\u001b[43mheaders\u001b[49m\u001b[38;5;241;43m=\u001b[39;49m\u001b[43mrequest\u001b[49m\u001b[38;5;241;43m.\u001b[39;49m\u001b[43mheaders\u001b[49m\u001b[43m,\u001b[49m\n\u001b[0;32m    672\u001b[0m \u001b[43m        \u001b[49m\u001b[43mredirect\u001b[49m\u001b[38;5;241;43m=\u001b[39;49m\u001b[38;5;28;43;01mFalse\u001b[39;49;00m\u001b[43m,\u001b[49m\n\u001b[0;32m    673\u001b[0m \u001b[43m        \u001b[49m\u001b[43massert_same_host\u001b[49m\u001b[38;5;241;43m=\u001b[39;49m\u001b[38;5;28;43;01mFalse\u001b[39;49;00m\u001b[43m,\u001b[49m\n\u001b[0;32m    674\u001b[0m \u001b[43m        \u001b[49m\u001b[43mpreload_content\u001b[49m\u001b[38;5;241;43m=\u001b[39;49m\u001b[38;5;28;43;01mFalse\u001b[39;49;00m\u001b[43m,\u001b[49m\n\u001b[0;32m    675\u001b[0m \u001b[43m        \u001b[49m\u001b[43mdecode_content\u001b[49m\u001b[38;5;241;43m=\u001b[39;49m\u001b[38;5;28;43;01mFalse\u001b[39;49;00m\u001b[43m,\u001b[49m\n\u001b[0;32m    676\u001b[0m \u001b[43m        \u001b[49m\u001b[43mretries\u001b[49m\u001b[38;5;241;43m=\u001b[39;49m\u001b[38;5;28;43mself\u001b[39;49m\u001b[38;5;241;43m.\u001b[39;49m\u001b[43mmax_retries\u001b[49m\u001b[43m,\u001b[49m\n\u001b[0;32m    677\u001b[0m \u001b[43m        \u001b[49m\u001b[43mtimeout\u001b[49m\u001b[38;5;241;43m=\u001b[39;49m\u001b[43mtimeout\u001b[49m\u001b[43m,\u001b[49m\n\u001b[0;32m    678\u001b[0m \u001b[43m        \u001b[49m\u001b[43mchunked\u001b[49m\u001b[38;5;241;43m=\u001b[39;49m\u001b[43mchunked\u001b[49m\u001b[43m,\u001b[49m\n\u001b[0;32m    679\u001b[0m \u001b[43m    \u001b[49m\u001b[43m)\u001b[49m\n\u001b[0;32m    681\u001b[0m \u001b[38;5;28;01mexcept\u001b[39;00m (ProtocolError, \u001b[38;5;167;01mOSError\u001b[39;00m) \u001b[38;5;28;01mas\u001b[39;00m err:\n",
      "File \u001b[1;32md:\\ВУЗ\\4 курс\\2 семестр\\диплом\\бэк\\diplomabackend\\.venv\\Lib\\site-packages\\urllib3\\connectionpool.py:841\u001b[0m, in \u001b[0;36mHTTPConnectionPool.urlopen\u001b[1;34m(self, method, url, body, headers, retries, redirect, assert_same_host, timeout, pool_timeout, release_conn, chunked, body_pos, preload_content, decode_content, **response_kw)\u001b[0m\n\u001b[0;32m    839\u001b[0m     new_e \u001b[38;5;241m=\u001b[39m ProtocolError(\u001b[38;5;124m\"\u001b[39m\u001b[38;5;124mConnection aborted.\u001b[39m\u001b[38;5;124m\"\u001b[39m, new_e)\n\u001b[1;32m--> 841\u001b[0m retries \u001b[38;5;241m=\u001b[39m \u001b[43mretries\u001b[49m\u001b[38;5;241;43m.\u001b[39;49m\u001b[43mincrement\u001b[49m\u001b[43m(\u001b[49m\n\u001b[0;32m    842\u001b[0m \u001b[43m    \u001b[49m\u001b[43mmethod\u001b[49m\u001b[43m,\u001b[49m\u001b[43m \u001b[49m\u001b[43murl\u001b[49m\u001b[43m,\u001b[49m\u001b[43m \u001b[49m\u001b[43merror\u001b[49m\u001b[38;5;241;43m=\u001b[39;49m\u001b[43mnew_e\u001b[49m\u001b[43m,\u001b[49m\u001b[43m \u001b[49m\u001b[43m_pool\u001b[49m\u001b[38;5;241;43m=\u001b[39;49m\u001b[38;5;28;43mself\u001b[39;49m\u001b[43m,\u001b[49m\u001b[43m \u001b[49m\u001b[43m_stacktrace\u001b[49m\u001b[38;5;241;43m=\u001b[39;49m\u001b[43msys\u001b[49m\u001b[38;5;241;43m.\u001b[39;49m\u001b[43mexc_info\u001b[49m\u001b[43m(\u001b[49m\u001b[43m)\u001b[49m\u001b[43m[\u001b[49m\u001b[38;5;241;43m2\u001b[39;49m\u001b[43m]\u001b[49m\n\u001b[0;32m    843\u001b[0m \u001b[43m\u001b[49m\u001b[43m)\u001b[49m\n\u001b[0;32m    844\u001b[0m retries\u001b[38;5;241m.\u001b[39msleep()\n",
      "File \u001b[1;32md:\\ВУЗ\\4 курс\\2 семестр\\диплом\\бэк\\diplomabackend\\.venv\\Lib\\site-packages\\urllib3\\util\\retry.py:519\u001b[0m, in \u001b[0;36mRetry.increment\u001b[1;34m(self, method, url, response, error, _pool, _stacktrace)\u001b[0m\n\u001b[0;32m    518\u001b[0m     reason \u001b[38;5;241m=\u001b[39m error \u001b[38;5;129;01mor\u001b[39;00m ResponseError(cause)\n\u001b[1;32m--> 519\u001b[0m     \u001b[38;5;28;01mraise\u001b[39;00m MaxRetryError(_pool, url, reason) \u001b[38;5;28;01mfrom\u001b[39;00m\u001b[38;5;250m \u001b[39m\u001b[38;5;21;01mreason\u001b[39;00m  \u001b[38;5;66;03m# type: ignore[arg-type]\u001b[39;00m\n\u001b[0;32m    521\u001b[0m log\u001b[38;5;241m.\u001b[39mdebug(\u001b[38;5;124m\"\u001b[39m\u001b[38;5;124mIncremented Retry for (url=\u001b[39m\u001b[38;5;124m'\u001b[39m\u001b[38;5;132;01m%s\u001b[39;00m\u001b[38;5;124m'\u001b[39m\u001b[38;5;124m): \u001b[39m\u001b[38;5;132;01m%r\u001b[39;00m\u001b[38;5;124m\"\u001b[39m, url, new_retry)\n",
      "\u001b[1;31mMaxRetryError\u001b[0m: HTTPConnectionPool(host='127.0.0.1', port=8000): Max retries exceeded with url: /mainrequest/ (Caused by NewConnectionError('<urllib3.connection.HTTPConnection object at 0x000001BA91C67DD0>: Failed to establish a new connection: [WinError 10061] Подключение не установлено, т.к. конечный компьютер отверг запрос на подключение'))",
      "\nDuring handling of the above exception, another exception occurred:\n",
      "\u001b[1;31mConnectionError\u001b[0m                           Traceback (most recent call last)",
      "Cell \u001b[1;32mIn[11], line 2\u001b[0m\n\u001b[0;32m      1\u001b[0m MassTokenCreator\u001b[38;5;241m.\u001b[39mclear_tokens()\n\u001b[1;32m----> 2\u001b[0m \u001b[43mMassTokenCreator\u001b[49m\u001b[43m(\u001b[49m\u001b[38;5;241;43m2\u001b[39;49m\u001b[43m)\u001b[49m\n",
      "Cell \u001b[1;32mIn[10], line 8\u001b[0m, in \u001b[0;36mMassTokenCreator.__init__\u001b[1;34m(self, amount)\u001b[0m\n\u001b[0;32m      6\u001b[0m \u001b[38;5;28;01mfor\u001b[39;00m _ \u001b[38;5;129;01min\u001b[39;00m \u001b[38;5;28mrange\u001b[39m(amount):\n\u001b[0;32m      7\u001b[0m     token \u001b[38;5;241m=\u001b[39m TokenClient()\n\u001b[1;32m----> 8\u001b[0m     \u001b[43mtoken\u001b[49m\u001b[38;5;241;43m.\u001b[39;49m\u001b[43msend_mainrequest\u001b[49m\u001b[43m(\u001b[49m\u001b[43m)\u001b[49m\n\u001b[0;32m      9\u001b[0m     \u001b[38;5;28mself\u001b[39m\u001b[38;5;241m.\u001b[39mtokens_dict[token\u001b[38;5;241m.\u001b[39mfingerprint] \u001b[38;5;241m=\u001b[39m token\n\u001b[0;32m     10\u001b[0m \u001b[38;5;28mprint\u001b[39m(\u001b[38;5;28mlist\u001b[39m(\u001b[38;5;28mself\u001b[39m\u001b[38;5;241m.\u001b[39mtokens_dict\u001b[38;5;241m.\u001b[39mkeys()))\n",
      "Cell \u001b[1;32mIn[4], line 77\u001b[0m, in \u001b[0;36mTokenClient.send_mainrequest\u001b[1;34m(self)\u001b[0m\n\u001b[0;32m     74\u001b[0m jwt_token \u001b[38;5;241m=\u001b[39m \u001b[38;5;28mself\u001b[39m\u001b[38;5;241m.\u001b[39m_encode_jwt_token(jwt_dict)\n\u001b[0;32m     75\u001b[0m request_data \u001b[38;5;241m=\u001b[39m \u001b[38;5;28mself\u001b[39m\u001b[38;5;241m.\u001b[39m_get_request_data(jwt_token)\n\u001b[1;32m---> 77\u001b[0m response \u001b[38;5;241m=\u001b[39m \u001b[43mrequests\u001b[49m\u001b[38;5;241;43m.\u001b[39;49m\u001b[43mpost\u001b[49m\u001b[43m(\u001b[49m\u001b[38;5;28;43mself\u001b[39;49m\u001b[38;5;241;43m.\u001b[39;49m\u001b[43m_get_url\u001b[49m\u001b[43m(\u001b[49m\u001b[43m)\u001b[49m\u001b[43m,\u001b[49m\u001b[43m \u001b[49m\u001b[43mjson\u001b[49m\u001b[38;5;241;43m=\u001b[39;49m\u001b[43mrequest_data\u001b[49m\u001b[43m)\u001b[49m\n\u001b[0;32m     79\u001b[0m \u001b[38;5;28;01mif\u001b[39;00m response\u001b[38;5;241m.\u001b[39mstatus_code \u001b[38;5;241m==\u001b[39m \u001b[38;5;241m200\u001b[39m:\n\u001b[0;32m     80\u001b[0m     \u001b[38;5;28mself\u001b[39m\u001b[38;5;241m.\u001b[39mticket \u001b[38;5;241m=\u001b[39m \u001b[38;5;28mself\u001b[39m\u001b[38;5;241m.\u001b[39m_get_ticket_from_response(response\u001b[38;5;241m.\u001b[39mcontent)\n",
      "File \u001b[1;32md:\\ВУЗ\\4 курс\\2 семестр\\диплом\\бэк\\diplomabackend\\.venv\\Lib\\site-packages\\requests\\api.py:115\u001b[0m, in \u001b[0;36mpost\u001b[1;34m(url, data, json, **kwargs)\u001b[0m\n\u001b[0;32m    103\u001b[0m \u001b[38;5;28;01mdef\u001b[39;00m\u001b[38;5;250m \u001b[39m\u001b[38;5;21mpost\u001b[39m(url, data\u001b[38;5;241m=\u001b[39m\u001b[38;5;28;01mNone\u001b[39;00m, json\u001b[38;5;241m=\u001b[39m\u001b[38;5;28;01mNone\u001b[39;00m, \u001b[38;5;241m*\u001b[39m\u001b[38;5;241m*\u001b[39mkwargs):\n\u001b[0;32m    104\u001b[0m \u001b[38;5;250m    \u001b[39m\u001b[38;5;124mr\u001b[39m\u001b[38;5;124;03m\"\"\"Sends a POST request.\u001b[39;00m\n\u001b[0;32m    105\u001b[0m \n\u001b[0;32m    106\u001b[0m \u001b[38;5;124;03m    :param url: URL for the new :class:`Request` object.\u001b[39;00m\n\u001b[1;32m   (...)\u001b[0m\n\u001b[0;32m    112\u001b[0m \u001b[38;5;124;03m    :rtype: requests.Response\u001b[39;00m\n\u001b[0;32m    113\u001b[0m \u001b[38;5;124;03m    \"\"\"\u001b[39;00m\n\u001b[1;32m--> 115\u001b[0m     \u001b[38;5;28;01mreturn\u001b[39;00m \u001b[43mrequest\u001b[49m\u001b[43m(\u001b[49m\u001b[38;5;124;43m\"\u001b[39;49m\u001b[38;5;124;43mpost\u001b[39;49m\u001b[38;5;124;43m\"\u001b[39;49m\u001b[43m,\u001b[49m\u001b[43m \u001b[49m\u001b[43murl\u001b[49m\u001b[43m,\u001b[49m\u001b[43m \u001b[49m\u001b[43mdata\u001b[49m\u001b[38;5;241;43m=\u001b[39;49m\u001b[43mdata\u001b[49m\u001b[43m,\u001b[49m\u001b[43m \u001b[49m\u001b[43mjson\u001b[49m\u001b[38;5;241;43m=\u001b[39;49m\u001b[43mjson\u001b[49m\u001b[43m,\u001b[49m\u001b[43m \u001b[49m\u001b[38;5;241;43m*\u001b[39;49m\u001b[38;5;241;43m*\u001b[39;49m\u001b[43mkwargs\u001b[49m\u001b[43m)\u001b[49m\n",
      "File \u001b[1;32md:\\ВУЗ\\4 курс\\2 семестр\\диплом\\бэк\\diplomabackend\\.venv\\Lib\\site-packages\\requests\\api.py:59\u001b[0m, in \u001b[0;36mrequest\u001b[1;34m(method, url, **kwargs)\u001b[0m\n\u001b[0;32m     55\u001b[0m \u001b[38;5;66;03m# By using the 'with' statement we are sure the session is closed, thus we\u001b[39;00m\n\u001b[0;32m     56\u001b[0m \u001b[38;5;66;03m# avoid leaving sockets open which can trigger a ResourceWarning in some\u001b[39;00m\n\u001b[0;32m     57\u001b[0m \u001b[38;5;66;03m# cases, and look like a memory leak in others.\u001b[39;00m\n\u001b[0;32m     58\u001b[0m \u001b[38;5;28;01mwith\u001b[39;00m sessions\u001b[38;5;241m.\u001b[39mSession() \u001b[38;5;28;01mas\u001b[39;00m session:\n\u001b[1;32m---> 59\u001b[0m     \u001b[38;5;28;01mreturn\u001b[39;00m \u001b[43msession\u001b[49m\u001b[38;5;241;43m.\u001b[39;49m\u001b[43mrequest\u001b[49m\u001b[43m(\u001b[49m\u001b[43mmethod\u001b[49m\u001b[38;5;241;43m=\u001b[39;49m\u001b[43mmethod\u001b[49m\u001b[43m,\u001b[49m\u001b[43m \u001b[49m\u001b[43murl\u001b[49m\u001b[38;5;241;43m=\u001b[39;49m\u001b[43murl\u001b[49m\u001b[43m,\u001b[49m\u001b[43m \u001b[49m\u001b[38;5;241;43m*\u001b[39;49m\u001b[38;5;241;43m*\u001b[39;49m\u001b[43mkwargs\u001b[49m\u001b[43m)\u001b[49m\n",
      "File \u001b[1;32md:\\ВУЗ\\4 курс\\2 семестр\\диплом\\бэк\\diplomabackend\\.venv\\Lib\\site-packages\\requests\\sessions.py:589\u001b[0m, in \u001b[0;36mSession.request\u001b[1;34m(self, method, url, params, data, headers, cookies, files, auth, timeout, allow_redirects, proxies, hooks, stream, verify, cert, json)\u001b[0m\n\u001b[0;32m    584\u001b[0m send_kwargs \u001b[38;5;241m=\u001b[39m {\n\u001b[0;32m    585\u001b[0m     \u001b[38;5;124m\"\u001b[39m\u001b[38;5;124mtimeout\u001b[39m\u001b[38;5;124m\"\u001b[39m: timeout,\n\u001b[0;32m    586\u001b[0m     \u001b[38;5;124m\"\u001b[39m\u001b[38;5;124mallow_redirects\u001b[39m\u001b[38;5;124m\"\u001b[39m: allow_redirects,\n\u001b[0;32m    587\u001b[0m }\n\u001b[0;32m    588\u001b[0m send_kwargs\u001b[38;5;241m.\u001b[39mupdate(settings)\n\u001b[1;32m--> 589\u001b[0m resp \u001b[38;5;241m=\u001b[39m \u001b[38;5;28;43mself\u001b[39;49m\u001b[38;5;241;43m.\u001b[39;49m\u001b[43msend\u001b[49m\u001b[43m(\u001b[49m\u001b[43mprep\u001b[49m\u001b[43m,\u001b[49m\u001b[43m \u001b[49m\u001b[38;5;241;43m*\u001b[39;49m\u001b[38;5;241;43m*\u001b[39;49m\u001b[43msend_kwargs\u001b[49m\u001b[43m)\u001b[49m\n\u001b[0;32m    591\u001b[0m \u001b[38;5;28;01mreturn\u001b[39;00m resp\n",
      "File \u001b[1;32md:\\ВУЗ\\4 курс\\2 семестр\\диплом\\бэк\\diplomabackend\\.venv\\Lib\\site-packages\\requests\\sessions.py:703\u001b[0m, in \u001b[0;36mSession.send\u001b[1;34m(self, request, **kwargs)\u001b[0m\n\u001b[0;32m    700\u001b[0m start \u001b[38;5;241m=\u001b[39m preferred_clock()\n\u001b[0;32m    702\u001b[0m \u001b[38;5;66;03m# Send the request\u001b[39;00m\n\u001b[1;32m--> 703\u001b[0m r \u001b[38;5;241m=\u001b[39m \u001b[43madapter\u001b[49m\u001b[38;5;241;43m.\u001b[39;49m\u001b[43msend\u001b[49m\u001b[43m(\u001b[49m\u001b[43mrequest\u001b[49m\u001b[43m,\u001b[49m\u001b[43m \u001b[49m\u001b[38;5;241;43m*\u001b[39;49m\u001b[38;5;241;43m*\u001b[39;49m\u001b[43mkwargs\u001b[49m\u001b[43m)\u001b[49m\n\u001b[0;32m    705\u001b[0m \u001b[38;5;66;03m# Total elapsed time of the request (approximately)\u001b[39;00m\n\u001b[0;32m    706\u001b[0m elapsed \u001b[38;5;241m=\u001b[39m preferred_clock() \u001b[38;5;241m-\u001b[39m start\n",
      "File \u001b[1;32md:\\ВУЗ\\4 курс\\2 семестр\\диплом\\бэк\\diplomabackend\\.venv\\Lib\\site-packages\\requests\\adapters.py:700\u001b[0m, in \u001b[0;36mHTTPAdapter.send\u001b[1;34m(self, request, stream, timeout, verify, cert, proxies)\u001b[0m\n\u001b[0;32m    696\u001b[0m     \u001b[38;5;28;01mif\u001b[39;00m \u001b[38;5;28misinstance\u001b[39m(e\u001b[38;5;241m.\u001b[39mreason, _SSLError):\n\u001b[0;32m    697\u001b[0m         \u001b[38;5;66;03m# This branch is for urllib3 v1.22 and later.\u001b[39;00m\n\u001b[0;32m    698\u001b[0m         \u001b[38;5;28;01mraise\u001b[39;00m SSLError(e, request\u001b[38;5;241m=\u001b[39mrequest)\n\u001b[1;32m--> 700\u001b[0m     \u001b[38;5;28;01mraise\u001b[39;00m \u001b[38;5;167;01mConnectionError\u001b[39;00m(e, request\u001b[38;5;241m=\u001b[39mrequest)\n\u001b[0;32m    702\u001b[0m \u001b[38;5;28;01mexcept\u001b[39;00m ClosedPoolError \u001b[38;5;28;01mas\u001b[39;00m e:\n\u001b[0;32m    703\u001b[0m     \u001b[38;5;28;01mraise\u001b[39;00m \u001b[38;5;167;01mConnectionError\u001b[39;00m(e, request\u001b[38;5;241m=\u001b[39mrequest)\n",
      "\u001b[1;31mConnectionError\u001b[0m: HTTPConnectionPool(host='127.0.0.1', port=8000): Max retries exceeded with url: /mainrequest/ (Caused by NewConnectionError('<urllib3.connection.HTTPConnection object at 0x000001BA91C67DD0>: Failed to establish a new connection: [WinError 10061] Подключение не установлено, т.к. конечный компьютер отверг запрос на подключение'))"
     ]
    }
   ],
   "source": [
    "MassTokenCreator.clear_tokens()\n",
    "MassTokenCreator(2)"
   ]
  },
  {
   "cell_type": "code",
   "execution_count": null,
   "metadata": {},
   "outputs": [
    {
     "name": "stderr",
     "output_type": "stream",
     "text": [
      "DEBUG 2025-04-01 16:50:45,195 connectionpool 19228 25908 Starting new HTTP connection (1): 127.0.0.1:8000\n",
      "DEBUG 2025-04-01 16:50:45,257 connectionpool 19228 25908 http://127.0.0.1:8000 \"POST /mainrequest/ HTTP/1.1\" 200 1460\n",
      "DEBUG 2025-04-01 16:50:45,283 connectionpool 19228 25908 Starting new HTTP connection (1): 127.0.0.1:8000\n",
      "DEBUG 2025-04-01 16:50:45,344 connectionpool 19228 25908 http://127.0.0.1:8000 \"POST /mainrequest/ HTTP/1.1\" 200 1460\n"
     ]
    },
    {
     "name": "stdout",
     "output_type": "stream",
     "text": [
      "['FE 80 1B 67 13 AE', 'AC 38 EE C1 1C FF', '62 DC B3 25 9C FC', '60 1E 3B 62 C1 9B']\n"
     ]
    },
    {
     "data": {
      "text/plain": [
       "<__main__.MassTokenCreator at 0x1ba91a096d0>"
      ]
     },
     "execution_count": 7,
     "metadata": {},
     "output_type": "execute_result"
    }
   ],
   "source": [
    "MassTokenCreator(2)"
   ]
  },
  {
   "cell_type": "code",
   "execution_count": null,
   "metadata": {},
   "outputs": [],
   "source": []
  },
  {
   "cell_type": "code",
   "execution_count": null,
   "metadata": {},
   "outputs": [],
   "source": [
    "MassTokenCreator(2)"
   ]
  },
  {
   "cell_type": "code",
   "execution_count": null,
   "metadata": {},
   "outputs": [
    {
     "name": "stderr",
     "output_type": "stream",
     "text": [
      "DEBUG 2025-04-01 16:52:54,611 connectionpool 19228 25908 Starting new HTTP connection (1): 127.0.0.1:8000\n",
      "DEBUG 2025-04-01 16:52:54,679 connectionpool 19228 25908 http://127.0.0.1:8000 \"POST /mainrequest/ HTTP/1.1\" 200 1622\n",
      "DEBUG 2025-04-01 16:52:54,681 connectionpool 19228 25908 Starting new HTTP connection (1): 127.0.0.1:8000\n",
      "DEBUG 2025-04-01 16:52:54,741 connectionpool 19228 25908 http://127.0.0.1:8000 \"POST /mainrequest/ HTTP/1.1\" 200 1622\n",
      "DEBUG 2025-04-01 16:52:54,744 connectionpool 19228 25908 Starting new HTTP connection (1): 127.0.0.1:8000\n",
      "DEBUG 2025-04-01 16:52:54,805 connectionpool 19228 25908 http://127.0.0.1:8000 \"POST /mainrequest/ HTTP/1.1\" 200 1622\n",
      "DEBUG 2025-04-01 16:52:54,807 connectionpool 19228 25908 Starting new HTTP connection (1): 127.0.0.1:8000\n",
      "DEBUG 2025-04-01 16:52:54,866 connectionpool 19228 25908 http://127.0.0.1:8000 \"POST /mainrequest/ HTTP/1.1\" 200 1622\n"
     ]
    },
    {
     "name": "stdout",
     "output_type": "stream",
     "text": [
      "FE 80 1B 67 13 AE (200, b'{\"ticket\":\"eyJhbGciOiJFZERTQSIsInR5cCI6IkpXVCJ9.eyJwYXlsb2FkIjoiZ0FBQUFBQm42LS0ycFFHUlFhaHRpdGJxOURuNnFnSnZrUzZzVVNVMm9XWXc3V1RYRnpETjlwTDVtWGJlVkpDYXdDblJyQ0JjMGhITjBMaVZibURFVjk1SDNtY0ZaLU9VSm1lR1NDTFdrWnptMHRYWHIxZ0lKM3FOR1dTdUhWaHFILXdSb2pMY0ZFa2NGaGQyMFZINkViOWJoQjd3OTh3cnNzdVZ0OHNDTHpTaEhEQzRhTDRlUkxrSmMyaUVqWFhoLWMzVnpYNXZuTS16S3Y1Y1FrRFlSb1ZNRnpRMnoyMnMwd3BUbGNyLUtwUGwyaVZocHpfQ04xOEdBV3JUNkN0ZVM3bEpEQ1p6RXVvdE9xTVE0bFdHM3FVaDJUNmNIU2FuUkZCZlpLbi1UN2xxeDdDdVo1SE5JcWVPUTVpeVNCc2sxSTZxbm9INGhQN2VFSlJSSWRNTHpRckJES1BRbGpEQWs2bWlVeDNZLTVPdHVyX3J2MnVfQW5TX3QzZ1V4ME81RU5GYWpyWHVRdlBpTG5BMWFXX0NYUjlXQ3FPajMwdTBtMGdGS3ZISzdOZjR6OWdzZWwyY1lwTTRCYWxRYUhRaURMcHJ2dnJZZ2FmLUY1Mkd4T0N5R1pQSlROX2Z0MzRqeDcxcWRleWNrWG1UU2IyRWtQQXlDVV9URTRfdXpsM0VSaWE1eE5IbmhIQTZqQmFydTV5ZzFaVEFzT2RuVzNvaGdFaUNNN1BGZFJIM1JMUmFTMVRncE4zWDVXSGtvQXlCYkNEM1BuYWNFaVdMU202ZXZjOUdXaU9DRDBGYTFPMkxXYVh1SFItSkJSV0NIdTVpa2lSWEpPQVBGelp0Q2FkMHlHMWlQdVcyckoxbTYyY3gyTDdkZTQ5cmZrUjAwZEswaG5tTHU1TjdMS1UzNGxWajN1UjRhTXVkOGdVODVNeHJza25QaHhxd0duc0FMSW5UV2RSODdEX05lbVpvN05NZGV3LV9LRFctRnJKRmVURDlCQTZaVUFyRVExNDRfQ1hpUzRoc1FmMDFOcERWanU5OTFQMG5qbXIyVkgySU1ob3FCSTRnd3JrYi1BeEJQVF9qeURQbHNFbEdJLU0ySnFzN2hFRVRyRGl5STJhTmpkc20ya0REOG9DZVA4Ynptdm10ODNmQUpKaDJucU9EdzJvdVVER1NYZHZ2UWdQM0c1R2NqRUFpR3MzQmFzRncifQ.YOx2XsP653vFKXdLCt6M2enVhBK720C08O9SKvRnj5tjUULxBoLaOWuPhX1s4kvQqDe_ubVDen8IntBX-6QxBQ\",\"history\":[{\"datetime\":\"2025-04-01T16:52:54.672267+03:00\",\"ip\":\"127.0.0.1\",\"msg\":\"SUCCESS\"},{\"datetime\":\"2025-04-01T16:52:27.180154+03:00\",\"ip\":\"127.0.0.1\",\"msg\":\"SUCCESS\"},{\"datetime\":\"2025-04-01T16:39:45.450190+03:00\",\"ip\":\"127.0.0.1\",\"msg\":\"SUCCESS\"}]}')\n",
      "AC 38 EE C1 1C FF (200, b'{\"ticket\":\"eyJhbGciOiJFZERTQSIsInR5cCI6IkpXVCJ9.eyJwYXlsb2FkIjoiZ0FBQUFBQm42LS0yTEREY21TRVJ5MUxCSDJ5LXhDOVk2cERmRTVHdno3a1p3Z013Z28zbms3ZTVmLVNpRkxsYVVsbmVkbFFUVnB2ZkpXOFZUc2habDd5M3oxVkZDN050TS1JV0lRd1c4WGJXblg2TENCMWNRUlM1RlE0bXZ2TEJEME9naGNzZ3hyTWpwd0laX2FYeXV4cFlwNlBpNEJIX2wtcFpLNGd4UWZZMXFfUnQyM2FkNEVCSUtwN291ZV9Gc19JRlAtYVhiMnduU2lmbzA3dWV0WWMzU0U2ckUzUlUtc2d1MFhNR3dVaDlFVnFscTgycFp5LVoxU1BVbVR5REFvZVVvWFV0X1paYWV6a0NMYjM3cXV5bE5kMGxxS3pKM0taWEZfNHpmclJIRFlZY3JabTFLTEpIQWh2VmZKbmN5NWVPeGhPRnhqUXkzQS1BS3I3T21tUG1IWWhrRzF0WWI2SEtfQUpNc0o1M0NSY0ZoT254TTlELXhnamdRczNsT1NIWV9WWVQwQWZKQVh1N0diSEFKaVhNVldvVU5VME40UFI1VUFSVk51T2lxdFpfOEUwVlJJbTM3VjkyLUpIeGZielBqZGpqRDFaLTRCT0VzSmtiTzhqZUJYbTZ5c2ZkdGFjYjBMcksxZ0RVQ2pmQkhoRG53RVN4SVZzdnNhWmVLSV9CbjlScnAzT0ZzNmpMSnViLXdJOWMwVlRYLUNrWkFja3N4X2ZJZWNlM21rS1R0cGtYM0xsT214WFJzMnllemR0MjVxTUdfcnVYQ011MjNLcWJVWXgzSzM2S252SnYyY21HenZOa3RqeFhUMzZZRDZNb2FIeUVTSkViNW54V2wzQWlJSEVqOHRFU0htMVFuN1JRVUQxX0ZMaVNvSVF6QjdVN3I2dHRfZENrUG5kRzVSVzJnR0JzSkpHNzE0MUVMUi1ZcjVBbHB2UVpyVTNNTUhwcDd6YzBucnFEX1l0MDRmWmJPVEpabUgzMlAxQ0x1SmIzUkhTbmFWWVRYbGl0MjJYQnpPVXRfT2otZlg3dVl2ZmtYbnNKcnJ4a0JOdlA4MUQ5VUJKM05QMXBBa0tkYU5HQllLSUFvUm9yUFdGMWo1cEJMeExRTUo1WnNGNUhIVnhCUFpYNVMtaUltY1FTQXZEemlYdFR4aVpQRXB3WkswYkpaV3RjbGh4MDNiUEJKZHpoVmlxaGNKUVcifQ.PppLA5-881IWD-FiMHnBqUZ8FNF4acUJZXASbVtIQM7bVJvKoVYkT_aVd46mrw_pU4G-zwLF1u0V0DtT3HKqCQ\",\"history\":[{\"datetime\":\"2025-04-01T16:52:54.735091+03:00\",\"ip\":\"127.0.0.1\",\"msg\":\"SUCCESS\"},{\"datetime\":\"2025-04-01T16:52:27.245155+03:00\",\"ip\":\"127.0.0.1\",\"msg\":\"SUCCESS\"},{\"datetime\":\"2025-04-01T16:39:45.555191+03:00\",\"ip\":\"127.0.0.1\",\"msg\":\"SUCCESS\"}]}')\n",
      "62 DC B3 25 9C FC (200, b'{\"ticket\":\"eyJhbGciOiJFZERTQSIsInR5cCI6IkpXVCJ9.eyJwYXlsb2FkIjoiZ0FBQUFBQm42LS0yNjFYM3lySmFEY1piaTN6VEZZR2U5OFA1LVE2Vk93akZId0lRdmV2TFRwRXBrcWQ4UnpOdVZPWUgzM3gzSE5POEhlSmJPMEJhcGl6RG1CSjF5SUhOVmN3akFGMDRhUEFCSXN4RE1KVEEwTFlId25mQi1fYlNIMmlyQl84eTdMdkVlZHN4NGV2aUUyTW1LWTdHLUlSZ1ZPQjFjb2pCeWo0cWxGZ3FPMGdYWVRNV3B4Q1lEa21ORkY2ZTJoRFVlVDY0eEx1N3gzeXExZkF6dmw0clVLZjUzM0NVNFczeDJYZFd3QUl2QjBWNVkzeC00X0dCb3JJTEJMWnZ3UnB2UG14TmxWbmZPWVpDdjB6U0FFRmY3V2pJR1h6SUN2QXFPTVdLMUpsbklOc1VVMXVUWjRlWDl6RFE5bF9uMmFRQ24tMks5Um1TakdjUEFGSmJQU1Q2bnlBZmliaXVJRFc5LUczY1pQc3lkcm1udnlhTGtSaXIyOGt1X2E1bGgtX2ZxVlhhTUpMTGs1cnFrWk9lN1IyZXJGMkMxejZfQ2hoS0ZlelJaRExZQnlva2NLdFllYjhKNHpoY2tyVWkxN090T1pGendjSV9nbGJSWDYxbUZXQWhWalBVS25SMGFlQnZIOFpBdktOOWQyV2lRX3lTbnJBV3lRVGpac21aTDY5NXBHUEx3cEJOaVlnQ2swaDhXRGtLZzZKR0U1Wm1hekdSZ0R0M1JaR2d6dWV0Q3BvVFN1enNnVkotaEx2YnV0blcwenFGYnBRZDRYaGcxc1BaZFNEWDNFU2FJa19VYTdfTFZaRk11TkppOUlCNWNHV0pLRFJSY1RoV0RzN0VNS25zZFdXalNJaTc1T1lqWVNhS0NURjItbUZtUVBKZnl5QnJYNG1CeDl0S0F0N3M3V3lQRm82TlhVT01jR3BlTElWMXpJNi1OZl9kYTdSamZfUFJsV2ZfQk04WXFZQklabmYzd3UxN2hjQzhTU2N0ZUY5NmlpbjNMYXB2WXljVHRjak1XQ3M5d0xSNm1aOW5GQlZmeGxHY3VzVjN5SklCSkYwZFIxVDhIWTAwMkdodEIybm45UGxwcWxWRi1rWlhTT3d4dERqdDM0N2lTMXV6bE5rNlJ6VGZ3Uk1Ha1VTQ2Jfdkx2cTEwb2lCTmFfLU5Oa19jOS14UGxNODI3QV9lRjRSa25NRk8ifQ.iJUqClbKaTHaC1i47CtCfBMbn2uCT6avo5pXl3CRsoYfNp2KfKbp70wSDUvknhUmE_HDWys2WdiA2xSnOiozAw\",\"history\":[{\"datetime\":\"2025-04-01T16:52:54.798090+03:00\",\"ip\":\"127.0.0.1\",\"msg\":\"SUCCESS\"},{\"datetime\":\"2025-04-01T16:52:27.318910+03:00\",\"ip\":\"127.0.0.1\",\"msg\":\"SUCCESS\"},{\"datetime\":\"2025-04-01T16:50:45.251709+03:00\",\"ip\":\"127.0.0.1\",\"msg\":\"SUCCESS\"}]}')\n",
      "60 1E 3B 62 C1 9B (200, b'{\"ticket\":\"eyJhbGciOiJFZERTQSIsInR5cCI6IkpXVCJ9.eyJwYXlsb2FkIjoiZ0FBQUFBQm42LS0ySlpsbVdQMEZhcFRTSGRpSC1sTkVqYzNSWEt2amVMUk91bHpIaS1rZWVLLVR2YVlDNC1wcGFyOVRuZEUtSkVheWw1bnA3LUZFdGlaMlFZYjhVNWktdmFHTkdvVGU0QXJDQzNGcHV4WmNlNXRKTERRVGpYYjRvLU1BR3JqdU1xLU4tSU9TTjJaYThIbTRrMWZmcU1PX3FYWm1NRVl4VGZ2bHVpQXh5Y2taM19SSmM2cW9oWk40cFRITDJ2c3U1bHFNMlpoNWNhc2NuXzBabDZEMU1OajNoM3pSSXRZUW1iV3JacmdWWEFRMm10OU5Welk5N2pWZlc0TlJ0SUdWNmRrNnFYd1ZITkxMMWpsV21XM3hXUTFUNTg5X1ZQOU95dzNmdGQ5VmhjMXlSaHdyR3VpWmp4V05HZXVDUUdWM1ByY3d2ajNheDh4cDduSzZESEZxekRSXzVIaU1MSENlM184SjFHS3BmZmUyY0NzYmxMN0RmaEQ3c3J1bUptczJwUzBTbWpUdkVYeHJwbm15MXk4VTFhZVRZbVhrYXd4WmJwelpyN2NINV9hWGdfM1paLUI5eEVCV2VoT1RGS2I4TnBUSkNPMjFUeUZpdFI0QjdIcTFiRVJLRTBXTU9JeGkyc1BVbTRWR3Z0d3BDekVVTjdCaUt0NGYxRlc1ZklnbFM5TUZBUTNZR2s4T2VoX19oVUdOdWNSQl83eVh2bXBTbUs4cGRBdEN2eFJSOER0TUhCbmh5bmZpa1kwcFJ0Vlh3R3lrNDZUQmhKUXA2Tk9xM0VUTWVNeEdxQ3BQTFFzdHFfTnpZUVhvRm9fcUlPRV9jeUhDdHI5V0gyOW9vZFBHXy13Um15RmVCN2VVVmoySlJHeHNzVmhId21TZ05NOEl6VW5CSWRyMXJFeHRmMTVTaFFFMExwcW1oUHFvVWtOYlVLX1F3bHZnWXRJa2pOYzBJM0UyNmZTX1BDUmxTU214UlFBc2Q3XzRfSThkLTNUc3JUZUdIZUh4aXFFMldCZ21HTE5zWk5pUHhYNThnUFhoN3BTZzlfWkxFaVZaUDNNWFo1OUp6ZTVzMlUtRzE0RmFvUlpEaDVpcW1mdVVNdldCb0hfZ2hLbUdVMWxtYlhSUGJPeUh4VjM3ZW5lcGcxOE5mX1FvTmNYQ05YTmEzV0hKaG9WTWNkZWFXNXBCRW92WDVCYTcifQ.hVg9EGQn-gfAi_id72MWaa6dSH-BOU2SeYKenmKu8GwnGlxsRcQjDQSjaqkOMwWa_RJtPHqeytRx4AZcbfYpDQ\",\"history\":[{\"datetime\":\"2025-04-01T16:52:54.859091+03:00\",\"ip\":\"127.0.0.1\",\"msg\":\"SUCCESS\"},{\"datetime\":\"2025-04-01T16:52:27.385536+03:00\",\"ip\":\"127.0.0.1\",\"msg\":\"SUCCESS\"},{\"datetime\":\"2025-04-01T16:50:45.337709+03:00\",\"ip\":\"127.0.0.1\",\"msg\":\"SUCCESS\"}]}')\n"
     ]
    }
   ],
   "source": [
    "MassTokenCreator.send_requests()"
   ]
  }
 ],
 "metadata": {
  "kernelspec": {
   "display_name": ".venv",
   "language": "python",
   "name": "python3"
  },
  "language_info": {
   "codemirror_mode": {
    "name": "ipython",
    "version": 3
   },
   "file_extension": ".py",
   "mimetype": "text/x-python",
   "name": "python",
   "nbconvert_exporter": "python",
   "pygments_lexer": "ipython3",
   "version": "3.12.1"
  }
 },
 "nbformat": 4,
 "nbformat_minor": 2
}
