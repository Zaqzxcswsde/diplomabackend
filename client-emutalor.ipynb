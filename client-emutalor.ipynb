{
 "cells": [
  {
   "cell_type": "markdown",
   "metadata": {},
   "source": [
    "# Imports"
   ]
  },
  {
   "cell_type": "code",
   "execution_count": null,
   "metadata": {},
   "outputs": [],
   "source": [
    "from cryptography.hazmat.primitives.asymmetric import rsa\n",
    "from cryptography.hazmat.primitives import serialization\n",
    "import jwt\n",
    "from datetime import datetime, timezone\n",
    "import re\n",
    "import hashlib\n",
    "from typing import Any\n",
    "import requests\n",
    "import json\n",
    "import pickle\n",
    "import base64"
   ]
  },
  {
   "cell_type": "markdown",
   "metadata": {},
   "source": [
    "# Token client class definition (mimics mobile app)"
   ]
  },
  {
   "cell_type": "code",
   "execution_count": null,
   "metadata": {},
   "outputs": [],
   "source": [
    "DEV_URL = \"http://127.0.0.1:8000\""
   ]
  },
  {
   "cell_type": "code",
   "execution_count": null,
   "metadata": {},
   "outputs": [],
   "source": [
    "class TokenClient:\n",
    "\n",
    "    app_version = \"v0.0.5\"\n",
    "    api_url = \"/mainrequest/\"\n",
    "    base_url = DEV_URL\n",
    "\n",
    "\n",
    "    def __init__(self, pin = \"1234567890\", saved_token = None):\n",
    "\n",
    "        if not saved_token:\n",
    "            self.private_key, self.public_key = self._generate_keypair()\n",
    "            self.private_bytes, self.public_bytes = self._get_key_bytes()\n",
    "            self.ticket = \"\"\n",
    "        else:\n",
    "            decoded_data = self._restore_saved_token(saved_token)\n",
    "            if decoded_data:\n",
    "                self.private_key, self.public_key, self.ticket = decoded_data\n",
    "\n",
    "        self.fingerprint = self._get_fingerprint()\n",
    "        self.pin = self._get_pin(pin)\n",
    "\n",
    "    def _get_url(self):\n",
    "        return self.base_url + self.api_url\n",
    "\n",
    "    def _generate_keypair(self):\n",
    "        private_key =  rsa.generate_private_key(key_size=2048, public_exponent=65537)\n",
    "        public_key = private_key.public_key()\n",
    "        return (private_key, public_key)\n",
    "    \n",
    "    def _get_key_bytes(self):\n",
    "        private_bytes = self.private_key.private_bytes(\n",
    "                encoding=serialization.Encoding.PEM,\n",
    "                format=serialization.PrivateFormat.PKCS8,\n",
    "                encryption_algorithm=serialization.NoEncryption(),\n",
    "            ).decode()\n",
    "        private_bytes = re.sub(r'(\\r\\n)|\\n', '', private_bytes)\n",
    "\n",
    "        public_bytes = self.public_key.public_bytes(\n",
    "                    encoding=serialization.Encoding.PEM,\n",
    "                    format=serialization.PublicFormat.SubjectPublicKeyInfo,\n",
    "                ).decode()\n",
    "        public_bytes = re.sub(r'(\\r\\n)|\\n', '', public_bytes)\n",
    "\n",
    "        return (private_bytes, public_bytes)\n",
    "    \n",
    "    def _get_fingerprint(self):\n",
    "        return ' '.join(f'{byte:02X}' for byte in hashlib.sha256(self.public_bytes.encode('utf-8')).digest()[:6])\n",
    "    \n",
    "    def _get_pin(self, pin):\n",
    "        return hashlib.sha256(f\"{pin}{self.fingerprint}\".encode('utf-8')).hexdigest()\n",
    "    \n",
    "    def _get_jwt_dict(self):\n",
    "        jwt_dict = {\n",
    "            \"version\": self.app_version,\n",
    "            \"request_time\": datetime.now(timezone.utc).isoformat(),\n",
    "            \"public_key\": self.public_bytes,\n",
    "            \"pin\": self.pin,\n",
    "            \"ticket\": self.ticket\n",
    "        }\n",
    "        return jwt_dict\n",
    "    \n",
    "    def _encode_jwt_token(self, jwt_dict : dict[str, Any]):\n",
    "        return jwt.encode(jwt_dict, self.private_key, algorithm=\"RS256\")\n",
    "    \n",
    "    def _get_request_data(self, jwt_token):\n",
    "        return {'token': jwt_token}\n",
    "    \n",
    "    def _get_ticket_from_response(self, response):\n",
    "        return json.loads(response)['ticket']\n",
    "\n",
    "    def send_mainrequest(self):\n",
    "        jwt_dict = self._get_jwt_dict()\n",
    "        jwt_token = self._encode_jwt_token(jwt_dict)\n",
    "        request_data = self._get_request_data(jwt_token)\n",
    "\n",
    "        response = requests.post(self._get_url(), json=request_data)\n",
    "\n",
    "        if response.status_code == 200:\n",
    "            self.ticket = self._get_ticket_from_response(response.content)\n",
    "\n",
    "        return (response.status_code, response.content)\n",
    "\n",
    "    def save_token(self):\n",
    "        pickled_data = pickle.dumps((self.private_key, self.public_key, self.ticket))\n",
    "        base64_bytes = base64.b64encode(pickled_data)\n",
    "        return base64_bytes.decode()\n",
    "\n",
    "\n",
    "    def _restore_saved_token(self, encoded_string : str):\n",
    "        base64_bytes = encoded_string.encode()\n",
    "        pickled_data = base64.b64decode(base64_bytes)\n",
    "        unpickled_data = pickle.loads(pickled_data)\n",
    "        if (type(unpickled_data) != tuple): return None\n",
    "        if len(unpickled_data) != 3: return None\n",
    "        return unpickled_data\n",
    "    \n",
    "    def __str__(self):\n",
    "        return self.fingerprint\n",
    "    \n",
    "    def __repr__(self):\n",
    "        return f\"Token({self.fingerprint})\""
   ]
  },
  {
   "cell_type": "markdown",
   "metadata": {},
   "source": [
    "# Code playground"
   ]
  },
  {
   "cell_type": "code",
   "execution_count": null,
   "metadata": {},
   "outputs": [],
   "source": [
    "class MassTokenCreator:\n",
    "\n",
    "    tokens_dict : dict[TokenClient] = dict()\n",
    "\n",
    "    def __init__(self, amount):\n",
    "        for _ in range(amount):\n",
    "            token = TokenClient()\n",
    "            print(token.send_mainrequest())\n",
    "            self.tokens_dict[token.fingerprint] = token\n",
    "        print(list(self.tokens_dict.keys()))\n",
    "        \n",
    "    @classmethod\n",
    "    def send_requests(self, tokens: list[str] | None = None):\n",
    "        if tokens:\n",
    "            for fingerprint in tokens:\n",
    "                print(fingerprint, self.tokens_dict[fingerprint].send_mainrequest())\n",
    "        else:\n",
    "            for token in self.tokens_dict.values():\n",
    "                print(token.fingerprint, token.send_mainrequest())\n",
    "\n",
    "    @classmethod\n",
    "    def clear_tokens(self, tokens: list[str] | None = None):\n",
    "        if tokens:\n",
    "            for token in tokens:\n",
    "                self.tokens_dict.pop(token)\n",
    "        else:\n",
    "            self.tokens_dict.clear()\n"
   ]
  },
  {
   "cell_type": "code",
   "execution_count": null,
   "metadata": {},
   "outputs": [],
   "source": [
    "MassTokenCreator.clear_tokens()\n",
    "MassTokenCreator(1)"
   ]
  },
  {
   "cell_type": "code",
   "execution_count": null,
   "metadata": {},
   "outputs": [],
   "source": [
    "MassTokenCreator.send_requests()"
   ]
  }
 ],
 "metadata": {
  "kernelspec": {
   "display_name": ".venv",
   "language": "python",
   "name": "python3"
  },
  "language_info": {
   "codemirror_mode": {
    "name": "ipython",
    "version": 3
   },
   "file_extension": ".py",
   "mimetype": "text/x-python",
   "name": "python",
   "nbconvert_exporter": "python",
   "pygments_lexer": "ipython3",
   "version": "3.12.1"
  }
 },
 "nbformat": 4,
 "nbformat_minor": 2
}
